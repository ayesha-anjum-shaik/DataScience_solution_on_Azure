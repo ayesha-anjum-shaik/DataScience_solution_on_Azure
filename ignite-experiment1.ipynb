{
  "cells": [
    {
      "cell_type": "code",
      "source": [
        "#Creating a workspace using from_config()\r\n",
        "from azureml.core import Workspace\r\n",
        "\r\n",
        "ws = Workspace.from_config()"
      ],
      "outputs": [],
      "execution_count": 2,
      "metadata": {
        "gather": {
          "logged": 1666707321452
        }
      }
    },
    {
      "cell_type": "code",
      "source": [
        "#Creating a workspace using .get()\r\n",
        "from azureml.core import Workspace\r\n",
        "\r\n",
        "ws = Workspace.get(name='ignite_machinelearn',\r\n",
        "                   subscription_id='2d00455f-76c3-4759-ade7-8798d7d0c0da',\r\n",
        "                   resource_group='az900-rg1')"
      ],
      "outputs": [],
      "execution_count": 5,
      "metadata": {
        "jupyter": {
          "source_hidden": false,
          "outputs_hidden": false
        },
        "nteract": {
          "transient": {
            "deleting": false
          }
        },
        "gather": {
          "logged": 1666707504874
        }
      }
    },
    {
      "cell_type": "code",
      "source": [
        "#Retreiving the workspaces created and their details\r\n",
        "for compute_name in ws.compute_targets:\r\n",
        "    compute = ws.compute_targets[compute_name]\r\n",
        "    print(compute.name, \":\", compute.type)"
      ],
      "outputs": [
        {
          "output_type": "stream",
          "name": "stdout",
          "text": "ignite-instance1 : ComputeInstance\nignite-instance2 : AmlCompute\n"
        }
      ],
      "execution_count": 6,
      "metadata": {
        "jupyter": {
          "source_hidden": false,
          "outputs_hidden": false
        },
        "nteract": {
          "transient": {
            "deleting": false
          }
        },
        "gather": {
          "logged": 1666707521975
        }
      }
    },
    {
      "cell_type": "code",
      "source": [
        "#Creating an experiment in general\r\n",
        "from azureml.core import Experiment\r\n",
        "\r\n",
        "# create an experiment variable\r\n",
        "experiment = Experiment(workspace = ws, name = \"my-experiment\")\r\n",
        "\r\n",
        "# start the experiment\r\n",
        "run = experiment.start_logging()\r\n",
        "\r\n",
        "# experiment code goes here\r\n",
        "\r\n",
        "# end the experiment\r\n",
        "run.complete()"
      ],
      "outputs": [],
      "execution_count": 7,
      "metadata": {
        "jupyter": {
          "source_hidden": false,
          "outputs_hidden": false
        },
        "nteract": {
          "transient": {
            "deleting": false
          }
        },
        "gather": {
          "logged": 1666707824376
        }
      }
    },
    {
      "cell_type": "code",
      "source": [
        "#Creating an experiment and loading the dataset in that\r\n",
        "from azureml.core import Experiment\r\n",
        "import pandas as pd\r\n",
        "\r\n",
        "# Create an Azure ML experiment in your workspace\r\n",
        "experiment = Experiment(workspace = ws, name = 'my-experiment')\r\n",
        "\r\n",
        "# Start logging data from the experiment\r\n",
        "run = experiment.start_logging()\r\n",
        "\r\n",
        "# load the dataset and count the rows\r\n",
        "data = pd.read_csv('diabetes.csv')\r\n",
        "row_count = (len(data))\r\n",
        "\r\n",
        "# Log the row count\r\n",
        "run.log('observations', row_count)\r\n",
        "\r\n",
        "# Complete the experiment\r\n",
        "run.complete()"
      ],
      "outputs": [],
      "execution_count": 11,
      "metadata": {
        "jupyter": {
          "source_hidden": false,
          "outputs_hidden": false
        },
        "nteract": {
          "transient": {
            "deleting": false
          }
        },
        "gather": {
          "logged": 1666708912806
        }
      }
    },
    {
      "cell_type": "code",
      "source": [
        "#Retreiving the details of experiments run\r\n",
        "from azureml.widgets import RunDetails\r\n",
        "\r\n",
        "RunDetails(run).show()"
      ],
      "outputs": [
        {
          "output_type": "display_data",
          "data": {
            "text/plain": "_UserRunWidget(widget_settings={'childWidgetDisplay': 'popup', 'send_telemetry': False, 'log_level': 'INFO', '…",
            "application/vnd.jupyter.widget-view+json": {
              "version_major": 2,
              "version_minor": 0,
              "model_id": "6c964fb6f4e94ab99e3a5aa601a5bfdd"
            }
          },
          "metadata": {}
        },
        {
          "output_type": "display_data",
          "data": {
            "application/aml.mini.widget.v1": "{\"status\": \"Completed\", \"workbench_run_details_uri\": \"https://ml.azure.com/runs/1ddbcae7-8854-4f18-bd0e-5df508bd6e70?wsid=/subscriptions/2d00455f-76c3-4759-ade7-8798d7d0c0da/resourcegroups/az900-rg1/workspaces/ignite_machinelearn&tid=178a51bf-8b20-49ff-b655-56245d5c173c\", \"run_id\": \"1ddbcae7-8854-4f18-bd0e-5df508bd6e70\", \"run_properties\": {\"run_id\": \"1ddbcae7-8854-4f18-bd0e-5df508bd6e70\", \"created_utc\": \"2022-10-25T14:41:08.661517Z\", \"properties\": {\"ContentSnapshotId\": \"37e3aab0-83c8-4871-b0ea-6b9ea9163898\"}, \"tags\": {}, \"end_time_utc\": \"2022-10-25T14:41:52.61212Z\", \"status\": \"Completed\", \"log_files\": {}, \"log_groups\": [], \"run_duration\": \"0:00:43\", \"run_number\": \"1666708868\", \"run_queued_details\": {\"status\": \"Completed\", \"details\": null}}, \"child_runs\": [], \"children_metrics\": {}, \"run_metrics\": [{\"name\": \"observations\", \"run_id\": \"1ddbcae7-8854-4f18-bd0e-5df508bd6e70\", \"categories\": [0], \"series\": [{\"data\": [15000]}]}], \"run_logs\": \"\\nRun is completed.\", \"graph\": {}, \"widget_settings\": {\"childWidgetDisplay\": \"popup\", \"send_telemetry\": false, \"log_level\": \"INFO\", \"sdk_version\": \"1.44.0\"}, \"loading\": false}"
          },
          "metadata": {}
        }
      ],
      "execution_count": 12,
      "metadata": {
        "jupyter": {
          "source_hidden": false,
          "outputs_hidden": false
        },
        "nteract": {
          "transient": {
            "deleting": false
          }
        },
        "gather": {
          "logged": 1666709059484
        }
      }
    },
    {
      "cell_type": "code",
      "source": [
        "#Retreiving the results/metrics of experiments run\r\n",
        "import json\r\n",
        "\r\n",
        "# Get logged metrics\r\n",
        "metrics = run.get_metrics()\r\n",
        "print(json.dumps(metrics, indent=2))"
      ],
      "outputs": [
        {
          "output_type": "stream",
          "name": "stdout",
          "text": "{\n  \"observations\": 15000\n}\n"
        }
      ],
      "execution_count": 14,
      "metadata": {
        "jupyter": {
          "source_hidden": false,
          "outputs_hidden": false
        },
        "nteract": {
          "transient": {
            "deleting": false
          }
        },
        "gather": {
          "logged": 1666709071470
        }
      }
    },
    {
      "cell_type": "code",
      "source": [
        "#Retreiving the location of output file\r\n",
        "import json\r\n",
        "\r\n",
        "files = run.get_file_names()\r\n",
        "print(json.dumps(files, indent=2))"
      ],
      "outputs": [
        {
          "output_type": "stream",
          "name": "stdout",
          "text": "[\n  \"outputs/sample.csv\"\n]\n"
        }
      ],
      "execution_count": 22,
      "metadata": {
        "jupyter": {
          "source_hidden": false,
          "outputs_hidden": false
        },
        "nteract": {
          "transient": {
            "deleting": false
          }
        },
        "gather": {
          "logged": 1666709224859
        }
      }
    },
    {
      "cell_type": "code",
      "source": [
        "#Can place the output file as per user needs\r\n",
        "run.upload_file(name='outputs/sample.csv', path_or_stream='./sample.csv')"
      ],
      "outputs": [
        {
          "output_type": "execute_result",
          "execution_count": 21,
          "data": {
            "text/plain": "<azureml._restclient.models.batch_artifact_content_information_dto.BatchArtifactContentInformationDto at 0x7f89cca26d60>"
          },
          "metadata": {}
        }
      ],
      "execution_count": 21,
      "metadata": {
        "jupyter": {
          "source_hidden": false,
          "outputs_hidden": false
        },
        "nteract": {
          "transient": {
            "deleting": false
          }
        },
        "gather": {
          "logged": 1666709221443
        }
      }
    },
    {
      "cell_type": "code",
      "source": [
        "#Creating and running the experiment using Run\r\n",
        "from azureml.core import Run\r\n",
        "import pandas as pd\r\n",
        "import matplotlib.pyplot as plt\r\n",
        "import os\r\n",
        "\r\n",
        "# Get the experiment run context\r\n",
        "run = Run.get_context()\r\n",
        "\r\n",
        "# load the diabetes dataset\r\n",
        "data = pd.read_csv('diabetes.csv')\r\n",
        "\r\n",
        "# Count the rows and log the result\r\n",
        "row_count = (len(data))\r\n",
        "run.log('observations', row_count)\r\n",
        "\r\n",
        "# Save a sample of the data\r\n",
        "os.makedirs('outputs', exist_ok=True)\r\n",
        "data.sample(100).to_csv(\"outputs/sample.csv\", index=False, header=True)\r\n",
        "\r\n",
        "# Complete the run\r\n",
        "run.complete()"
      ],
      "outputs": [
        {
          "output_type": "stream",
          "name": "stdout",
          "text": "Attempted to log scalar metric observations:\n15000\n"
        }
      ],
      "execution_count": 23,
      "metadata": {
        "jupyter": {
          "source_hidden": false,
          "outputs_hidden": false
        },
        "nteract": {
          "transient": {
            "deleting": false
          }
        },
        "gather": {
          "logged": 1666709258798
        }
      }
    },
    {
      "cell_type": "code",
      "source": [
        "#Training the machine learning model on Azure ML SDK Python\r\n",
        "from azureml.core import Run\r\n",
        "import argparse\r\n",
        "import pandas as pd\r\n",
        "import numpy as np\r\n",
        "import joblib\r\n",
        "import os\r\n",
        "from sklearn.model_selection import train_test_split\r\n",
        "from sklearn.linear_model import LogisticRegression\r\n",
        "\r\n",
        "# Get the experiment run context\r\n",
        "run = Run.get_context()\r\n",
        "\r\n",
        "\r\n",
        "\r\n",
        "# Prepare the dataset\r\n",
        "data = pd.read_csv('diabetes.csv')\r\n",
        "X, y = data[['Pregnancies','PlasmaGlucose','DiastolicBloodPressure','TricepsThickness','SerumInsulin','BMI','DiabetesPedigree','Age']].values, data['Diabetic'].values\r\n",
        "X_train, X_test, y_train, y_test = train_test_split(X, y, test_size=0.30)\r\n",
        "\r\n",
        "# Train a logistic regression model\r\n",
        "model = LogisticRegression(C=1/reg, solver=\"liblinear\").fit(X_train, y_train)\r\n",
        "\r\n",
        "# calculate accuracy\r\n",
        "y_hat = model.predict(X_test)\r\n",
        "acc = np.average(y_hat == y_test)\r\n",
        "run.log('Accuracy', np.float(acc))\r\n",
        "\r\n",
        "# Save the trained model\r\n",
        "os.makedirs('outputs', exist_ok=True)\r\n",
        "joblib.dump(value=model, filename='model.pkl')\r\n",
        "\r\n",
        "run.complete()"
      ],
      "outputs": [
        {
          "output_type": "stream",
          "name": "stdout",
          "text": "Attempted to log scalar metric Accuracy:\n0.7831111111111111\n"
        }
      ],
      "execution_count": 48,
      "metadata": {
        "jupyter": {
          "source_hidden": false,
          "outputs_hidden": false
        },
        "nteract": {
          "transient": {
            "deleting": false
          }
        },
        "gather": {
          "logged": 1666711740533
        }
      }
    },
    {
      "cell_type": "code",
      "source": [
        "#Registering the model to save it to workspace\r\n",
        "from azureml.core import Model\r\n",
        "\r\n",
        "model = Model.register(workspace=ws,\r\n",
        "                       model_name='classification_model',\r\n",
        "                       model_path='model.pkl', # local path\r\n",
        "                       description='A classification model',\r\n",
        "                       tags={'data-format': 'CSV'},\r\n",
        "                       model_framework=Model.Framework.SCIKITLEARN,\r\n",
        "                       model_framework_version='0.20.3')"
      ],
      "outputs": [
        {
          "output_type": "stream",
          "name": "stdout",
          "text": "Registering model classification_model\n"
        }
      ],
      "execution_count": 49,
      "metadata": {
        "jupyter": {
          "source_hidden": false,
          "outputs_hidden": false
        },
        "nteract": {
          "transient": {
            "deleting": false
          }
        },
        "gather": {
          "logged": 1666711747404
        }
      }
    },
    {
      "cell_type": "code",
      "source": [
        "#Retreiving the saved model and its details\r\n",
        "from azureml.core import Model\r\n",
        "\r\n",
        "for model in Model.list(ws):\r\n",
        "    # Get model name and auto-generated version\r\n",
        "    print(model.name, 'version:', model.version)"
      ],
      "outputs": [
        {
          "output_type": "stream",
          "name": "stdout",
          "text": "classification_model version: 1\namlstudio-predict-diabetes version: 1\n"
        }
      ],
      "execution_count": 50,
      "metadata": {
        "jupyter": {
          "source_hidden": false,
          "outputs_hidden": false
        },
        "nteract": {
          "transient": {
            "deleting": false
          }
        },
        "gather": {
          "logged": 1666711766305
        }
      }
    },
    {
      "cell_type": "code",
      "source": [
        "#Retreiving the datastores created in our workspace and its details\r\n",
        "for ds_name in ws.datastores:\r\n",
        "    print(ds_name)"
      ],
      "outputs": [
        {
          "output_type": "stream",
          "name": "stdout",
          "text": "blob_data\nazureml_globaldatasets\nworkspaceworkingdirectory\nworkspaceartifactstore\nworkspacefilestore\nworkspaceblobstore\n"
        }
      ],
      "execution_count": 55,
      "metadata": {
        "jupyter": {
          "source_hidden": false,
          "outputs_hidden": false
        },
        "nteract": {
          "transient": {
            "deleting": false
          }
        },
        "gather": {
          "logged": 1666713614797
        }
      }
    },
    {
      "cell_type": "code",
      "source": [
        "#Creating the blob store\r\n",
        "blob_store = Datastore.get(ws, datastore_name='blob_data')\r\n",
        "blob_store"
      ],
      "outputs": [
        {
          "output_type": "execute_result",
          "execution_count": 59,
          "data": {
            "text/plain": "{\n  \"name\": \"blob_data\",\n  \"container_name\": \"data-container\",\n  \"account_name\": \"az900strgeacc\",\n  \"protocol\": \"https\",\n  \"endpoint\": \"core.windows.net\"\n}"
          },
          "metadata": {}
        }
      ],
      "execution_count": 59,
      "metadata": {
        "jupyter": {
          "source_hidden": false,
          "outputs_hidden": false
        },
        "nteract": {
          "transient": {
            "deleting": false
          }
        },
        "gather": {
          "logged": 1666713672634
        }
      }
    },
    {
      "cell_type": "code",
      "source": [
        "#Retreiving the default data store\r\n",
        "default_store = ws.get_default_datastore()\r\n",
        "default_store"
      ],
      "outputs": [
        {
          "output_type": "execute_result",
          "execution_count": 60,
          "data": {
            "text/plain": "{\n  \"name\": \"blob_data\",\n  \"container_name\": \"data-container\",\n  \"account_name\": \"az900strgeacc\",\n  \"protocol\": \"https\",\n  \"endpoint\": \"core.windows.net\"\n}"
          },
          "metadata": {}
        }
      ],
      "execution_count": 60,
      "metadata": {
        "jupyter": {
          "source_hidden": false,
          "outputs_hidden": false
        },
        "nteract": {
          "transient": {
            "deleting": false
          }
        },
        "gather": {
          "logged": 1666713680968
        }
      }
    },
    {
      "cell_type": "code",
      "source": [
        "#Setting the default data store\r\n",
        "ws.set_default_datastore('blob_data')\r\n",
        "blob_store"
      ],
      "outputs": [
        {
          "output_type": "execute_result",
          "execution_count": 61,
          "data": {
            "text/plain": "{\n  \"name\": \"blob_data\",\n  \"container_name\": \"data-container\",\n  \"account_name\": \"az900strgeacc\",\n  \"protocol\": \"https\",\n  \"endpoint\": \"core.windows.net\"\n}"
          },
          "metadata": {}
        }
      ],
      "execution_count": 61,
      "metadata": {
        "jupyter": {
          "source_hidden": false,
          "outputs_hidden": false
        },
        "nteract": {
          "transient": {
            "deleting": false
          }
        },
        "gather": {
          "logged": 1666713698446
        }
      }
    }
  ],
  "metadata": {
    "kernelspec": {
      "name": "python38-azureml",
      "language": "python",
      "display_name": "Python 3.8 - AzureML"
    },
    "language_info": {
      "name": "python",
      "version": "3.8.5",
      "mimetype": "text/x-python",
      "codemirror_mode": {
        "name": "ipython",
        "version": 3
      },
      "pygments_lexer": "ipython3",
      "nbconvert_exporter": "python",
      "file_extension": ".py"
    },
    "kernel_info": {
      "name": "python38-azureml"
    },
    "microsoft": {
      "host": {
        "AzureML": {
          "notebookHasBeenCompleted": true
        }
      }
    },
    "nteract": {
      "version": "nteract-front-end@1.0.0"
    }
  },
  "nbformat": 4,
  "nbformat_minor": 2
}